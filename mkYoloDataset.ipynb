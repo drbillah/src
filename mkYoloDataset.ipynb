{
 "cells": [
  {
   "cell_type": "code",
   "execution_count": null,
   "id": "de25e551",
   "metadata": {},
   "outputs": [],
   "source": [
    "import os\n",
    "import shutil\n",
    "from glob import glob\n",
    "\n",
    "cout = \"/home/mbillah/Lab/stdDetector/dataset/\"\n",
    "\n",
    "def getFiles(path):\n",
    "    files = glob(os.path.join(path,\"*.*\"))\n",
    "    return files\n",
    "\n",
    "def moveFile(filename):\n",
    "    for sample in filename:\n",
    "        shutil.copy(sample, cout)\n",
    "\n",
    "wTrain = getFiles(\"/home/mbillah/Lab/stdDetector/pubTrain\")\n",
    "wVal = getFiles(\"/home/mbillah/Lab/stdDetector/pubVal\")\n",
    "nwafu = getFiles(\"/home/mbillah/Lab/stdDetector/classroom\")\n",
    "\n",
    "moveFile(wTrain) \n",
    "moveFile(wVal)\n",
    "moveFile(nwafu) "
   ]
  },
  {
   "cell_type": "code",
   "execution_count": null,
   "id": "2411a21c",
   "metadata": {},
   "outputs": [],
   "source": []
  },
  {
   "cell_type": "code",
   "execution_count": null,
   "id": "54418545",
   "metadata": {},
   "outputs": [],
   "source": [
    "import os\n",
    "import numpy as np\n",
    "from glob import glob\n",
    "dirname = \"/home/mbillah/Lab/stdDetector/pubTrain\"\n",
    "images = glob(os.path.join(dirname, \"*.jpg\"))\n",
    "labels = glob(os.path.join(dirname, \"*.txt\"))\n",
    "images = [image[:-4] for image in images]\n",
    "labels = [label[:-4] for label in labels]\n",
    "\n",
    "nolabel = list(set(images) - set(labels))\n",
    "noimage = list(set(labels) - set(images)) \n",
    "\n",
    "\n",
    "print('%d images have no labels'%(len(nolabel)))\n",
    "print(nolabel)\n",
    "\n",
    "print('%d labels have no images'%(len(nolabel)))\n",
    "print(noimage)"
   ]
  }
 ],
 "metadata": {
  "kernelspec": {
   "display_name": "Python [conda env:deepscale]",
   "language": "python",
   "name": "conda-env-deepscale-py"
  },
  "language_info": {
   "codemirror_mode": {
    "name": "ipython",
    "version": 3
   },
   "file_extension": ".py",
   "mimetype": "text/x-python",
   "name": "python",
   "nbconvert_exporter": "python",
   "pygments_lexer": "ipython3",
   "version": "3.7.11"
  }
 },
 "nbformat": 4,
 "nbformat_minor": 5
}
