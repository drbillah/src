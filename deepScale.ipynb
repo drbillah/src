{
 "cells": [
  {
   "cell_type": "code",
   "execution_count": null,
   "id": "16c53817",
   "metadata": {},
   "outputs": [],
   "source": [
    "#pip install 'h5py==2.10.0' --force-reinstall"
   ]
  },
  {
   "cell_type": "code",
   "execution_count": null,
   "id": "c4568133",
   "metadata": {},
   "outputs": [],
   "source": [
    "from tensorflow.keras.applications import VGG16\n",
    "from tensorflow.keras.models import Model, Sequential\n",
    "from tensorflow.keras.layers import Input, Dropout, Flatten, Dense\n",
    "from tensorflow.keras.optimizers import Adam\n",
    "from tensorflow.keras.preprocessing.image import ImageDataGenerator\n",
    "from tensorflow.keras.callbacks import ModelCheckpoint, ReduceLROnPlateau"
   ]
  },
  {
   "cell_type": "code",
   "execution_count": null,
   "id": "4b7c2c11",
   "metadata": {},
   "outputs": [],
   "source": [
    "model = VGG16(weights=\"/home/mbillah/Downloads/all/old2/old/Feb/vgg16_weights_tf_dim_ordering_tf_kernels.h5\")\n",
    "filters, biases = model.layers[-1].get_weights()"
   ]
  },
  {
   "cell_type": "code",
   "execution_count": null,
   "id": "4a4632b3",
   "metadata": {},
   "outputs": [],
   "source": [
    "import pandas as pd\n",
    "df = pd.DataFrame(filters)"
   ]
  },
  {
   "cell_type": "code",
   "execution_count": null,
   "id": "d9c1f994",
   "metadata": {},
   "outputs": [],
   "source": [
    "df"
   ]
  },
  {
   "cell_type": "code",
   "execution_count": null,
   "id": "8cf57172",
   "metadata": {},
   "outputs": [],
   "source": [
    "for layer in model.layers:\n",
    "    print(\"{}: {}\".format(layer, layer.trainable))"
   ]
  },
  {
   "cell_type": "code",
   "execution_count": null,
   "id": "f7716331",
   "metadata": {},
   "outputs": [],
   "source": [
    "import warnings\n",
    "import numpy as np\n",
    "import pandas as pd\n",
    "import seaborn as sns\n",
    "from matplotlib import pyplot\n",
    "import matplotlib.pyplot as plt\n",
    "from sklearn import decomposition\n",
    "\n",
    "from keras_vggface.vggface import VGGFace\n",
    "from tensorflow.keras.applications import VGG16\n",
    "from tensorflow.keras.models import Model, Sequential\n",
    "from tensorflow.keras.layers import Input, Dropout, Flatten, Dense\n",
    "from tensorflow.keras.optimizers import Adam\n",
    "from tensorflow.keras.preprocessing.image import ImageDataGenerator\n",
    "from tensorflow.keras.callbacks import ModelCheckpoint, ReduceLROnPlateau\n",
    "warnings.filterwarnings('ignore')\n",
    "warnings.simplefilter('ignore')\n",
    "\n",
    "#model = VGG16()\n",
    "model = VGGFace(model='vgg16') \n",
    "filters, biases = model.layers[24].get_weights()\n",
    "df = pd.DataFrame(filters)"
   ]
  },
  {
   "cell_type": "code",
   "execution_count": null,
   "id": "e68de917",
   "metadata": {},
   "outputs": [],
   "source": [
    "df"
   ]
  },
  {
   "cell_type": "code",
   "execution_count": null,
   "id": "01f4224b",
   "metadata": {},
   "outputs": [],
   "source": [
    "plt.figure(figsize=(11.7,8.27))\n",
    "sns.set_context('paper')\n",
    "for i in range(df.shape[0]):\n",
    "    ax = sns.distplot(df.iloc[i], hist=False)\n",
    "    ax.set(xlabel=\"Features\")\n",
    "sns.despine()\n",
    "plt.savefig(\"fig/distplot.jpg\",bbox_inches='tight',dpi=600)"
   ]
  },
  {
   "cell_type": "code",
   "execution_count": null,
   "id": "b909b663",
   "metadata": {},
   "outputs": [],
   "source": [
    "from sklearn import decomposition\n",
    "pca = decomposition.PCA(n_components=10)\n",
    "df2 = df.T\n",
    "pca.fit(df2)\n",
    "X = pca.transform(df2)"
   ]
  },
  {
   "cell_type": "code",
   "execution_count": null,
   "id": "d687b60b",
   "metadata": {},
   "outputs": [],
   "source": [
    "ax = sns.distplot(X[:, 0])\n",
    "ax = sns.distplot(X[:, 1])\n",
    "ax = sns.distplot(X[:, 3])\n",
    "ax = sns.distplot(X[:, 4])\n",
    "ax = sns.distplot(X[:, 5])\n",
    "ax = sns.distplot(X[:, 6])\n",
    "ax = sns.distplot(X[:, 7])\n",
    "ax = sns.distplot(X[:, 8])\n",
    "ax = sns.distplot(X[:, 9])\n",
    "sns.despine()"
   ]
  },
  {
   "cell_type": "markdown",
   "id": "0db53e76",
   "metadata": {},
   "source": [
    "mul = []\n",
    "for i in range(4096):\n",
    "    mul.append(np.arange(1, 2623, 1))\n",
    "mul = np.array(mul)\n",
    "final_layer = df * mul\n",
    "\n",
    "count = final_layer.sum(axis=0)\n",
    "#sns.distplot(count)\n",
    "#sns.despine()\n",
    "#plt.savefig(\"fig/distplot_mul.jpg\",bbox_inches='tight',dpi=600)\n",
    "sns.histplot(count, kde= True)\n",
    "sns.despine()\n",
    "plt.savefig(\"fig/histplot_mul.jpg\",bbox_inches='tight',dpi=600)"
   ]
  },
  {
   "cell_type": "code",
   "execution_count": null,
   "id": "ba0fd868",
   "metadata": {},
   "outputs": [],
   "source": []
  },
  {
   "cell_type": "markdown",
   "id": "a4c3e18a",
   "metadata": {},
   "source": [
    "label = np.arange(1,2623)\n",
    "plt.scatter(count, label, c=label, edgecolor='none', alpha=0.5)\n",
    "#plt.xlabel('component 1')\n",
    "#plt.ylabel('component 2')\n",
    "plt.colorbar()\n",
    "sns.despine()\n",
    "plt.savefig(\"fig/scatter_mul.jpg\",bbox_inches='tight',dpi=1200)"
   ]
  },
  {
   "cell_type": "code",
   "execution_count": null,
   "id": "69a2bb36",
   "metadata": {},
   "outputs": [],
   "source": [
    "from sklearn import decomposition\n",
    "pca = decomposition.PCA(n_components=2)\n",
    "df2 = df.T\n",
    "pca.fit(df2)\n",
    "X = pca.transform(df2)"
   ]
  },
  {
   "cell_type": "code",
   "execution_count": null,
   "id": "d9b9b244",
   "metadata": {},
   "outputs": [],
   "source": [
    "plt.scatter(X[:, 0], X[:, 1], c=label, edgecolor='none', alpha=0.5, cmap=plt.cm.get_cmap('Accent', 10))\n",
    "plt.xlabel('component 1')\n",
    "plt.ylabel('component 2')\n",
    "plt.colorbar()\n",
    "plt.savefig(\"fig/pca2.jpg\",bbox_inches='tight',dpi=1200)"
   ]
  },
  {
   "cell_type": "code",
   "execution_count": null,
   "id": "ad3d2340",
   "metadata": {},
   "outputs": [],
   "source": [
    "label = np.arange(1,2623)\n",
    "plt.scatter(label, X, c=label, edgecolor='none', alpha=0.5)\n",
    "plt.xlabel('Individual Sample')\n",
    "plt.ylabel('Quantitative Facial Trait Value')\n",
    "plt.colorbar()\n",
    "sns.despine()\n",
    "plt.savefig(\"fig/pca1.jpg\",bbox_inches='tight',dpi=1200)"
   ]
  },
  {
   "cell_type": "markdown",
   "id": "70e24e75",
   "metadata": {},
   "source": [
    "# Sheep Milk Production Trait Value"
   ]
  },
  {
   "cell_type": "code",
   "execution_count": null,
   "id": "8c162585",
   "metadata": {},
   "outputs": [],
   "source": [
    "milk_production = pd.read_csv(\"/home/masum/Downloads/milk.csv\")\n",
    "label = np.arange(0,572)\n",
    "plt.scatter(label, milk_production, c=label, edgecolor='none', alpha=0.5)\n",
    "plt.xlabel('Individual Sample')\n",
    "plt.ylabel('Milk Production Trait')\n",
    "plt.colorbar()\n",
    "sns.despine()\n",
    "plt.savefig(\"fig/sheep_milk_production.jpg\",bbox_inches='tight',dpi=1200)"
   ]
  },
  {
   "cell_type": "code",
   "execution_count": null,
   "id": "4b8e6fea",
   "metadata": {},
   "outputs": [],
   "source": [
    "sns.histplot(milk_production)\n",
    "sns.despine()\n",
    "plt.savefig(\"fig/milk_hist.jpg\",bbox_inches='tight',dpi=1200)"
   ]
  },
  {
   "cell_type": "code",
   "execution_count": null,
   "id": "cab76e6b",
   "metadata": {},
   "outputs": [],
   "source": [
    "flowering_time = pd.read_csv(\"/home/masum/me/uab/06.GWAS/00.me/data/flowering_time_16.csv\")\n",
    "label = np.arange(0,1100)\n",
    "plt.scatter(label, flowering_time[\"flowering_time_16\"], c=label, edgecolor='none', alpha=0.5)\n",
    "plt.xlabel('Individual Sample')\n",
    "plt.ylabel('Flowering time at 60 degree')\n",
    "plt.colorbar()\n",
    "sns.despine()\n",
    "plt.savefig(\"fig/Flowering_time_at_60_degree.jpg\",bbox_inches='tight',dpi=1200)"
   ]
  },
  {
   "cell_type": "code",
   "execution_count": null,
   "id": "b68d50cd",
   "metadata": {},
   "outputs": [],
   "source": [
    "sns.histplot(flowering_time[\"flowering_time_16\"])\n",
    "sns.despine()\n",
    "plt.savefig(\"fig/flower_hist.jpg\",bbox_inches='tight',dpi=1200)"
   ]
  },
  {
   "cell_type": "code",
   "execution_count": null,
   "id": "45ab4aa7",
   "metadata": {},
   "outputs": [],
   "source": [
    "df"
   ]
  },
  {
   "cell_type": "code",
   "execution_count": null,
   "id": "2aeabc56",
   "metadata": {},
   "outputs": [],
   "source": [
    "df.shape"
   ]
  },
  {
   "cell_type": "code",
   "execution_count": null,
   "id": "fd6a21d2",
   "metadata": {},
   "outputs": [],
   "source": [
    "transpose = df.T"
   ]
  },
  {
   "cell_type": "code",
   "execution_count": null,
   "id": "56c98d17",
   "metadata": {},
   "outputs": [],
   "source": []
  },
  {
   "cell_type": "code",
   "execution_count": null,
   "id": "de29d221",
   "metadata": {},
   "outputs": [],
   "source": [
    "dist = np.linalg.norm(transpose.iloc[0]-transpose.iloc[11])"
   ]
  },
  {
   "cell_type": "code",
   "execution_count": null,
   "id": "4554c4d0",
   "metadata": {},
   "outputs": [],
   "source": [
    "import numpy as np\n",
    "dist = np.empty((2622, 2622),dtype=float)\n",
    "for i in range(2622):\n",
    "    print(i)\n",
    "    for j in range(2622):\n",
    "        #if i>=j:\n",
    "        #    continue\n",
    "        dist[i,j] = np.linalg.norm(transpose.iloc[i]-transpose.iloc[j])"
   ]
  },
  {
   "cell_type": "code",
   "execution_count": null,
   "id": "b10621c1",
   "metadata": {},
   "outputs": [],
   "source": [
    "#np.savetxt(\"/home/mbillah/Documents/02.deepscale/vggface_dist_symmetric.csv\", dist, delimiter=\",\")\n",
    "data = list(dist)"
   ]
  },
  {
   "cell_type": "code",
   "execution_count": null,
   "id": "ff3f8e5e",
   "metadata": {},
   "outputs": [],
   "source": [
    "from skbio import DistanceMatrix\n",
    "from skbio.tree import nj\n",
    "ids = list(np.arange(0,2622))\n",
    "dm = DistanceMatrix(data, ids)\n",
    "tree = nj(dm)\n",
    "print(tree.ascii_art())"
   ]
  },
  {
   "cell_type": "code",
   "execution_count": null,
   "id": "44ee35d4",
   "metadata": {},
   "outputs": [],
   "source": []
  }
 ],
 "metadata": {
  "kernelspec": {
   "display_name": "Python [conda env:deepscale]",
   "language": "python",
   "name": "conda-env-deepscale-py"
  },
  "language_info": {
   "codemirror_mode": {
    "name": "ipython",
    "version": 3
   },
   "file_extension": ".py",
   "mimetype": "text/x-python",
   "name": "python",
   "nbconvert_exporter": "python",
   "pygments_lexer": "ipython3",
   "version": "3.7.11"
  }
 },
 "nbformat": 4,
 "nbformat_minor": 5
}
