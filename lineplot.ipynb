{
 "cells": [
  {
   "cell_type": "code",
   "execution_count": 2,
   "id": "8ef55db9",
   "metadata": {},
   "outputs": [
    {
     "data": {
      "image/png": "[encoded data removed]",
      "text/plain": [
       "<Figure size 1080x288 with 2 Axes>"
      ]
     },
     "metadata": {
      "needs_background": "light"
     },
     "output_type": "display_data"
    }
   ],
   "source": [
    "import numpy as np\n",
    "import matplotlib.pyplot as plt\n",
    "import seaborn as sns\n",
    "\n",
    "class Draw:\n",
    "    def __init__(self, num):\n",
    "        figure, self.axs = plt.subplots(num, 1,figsize=(15, num*2))\n",
    "        for i, ax in enumerate(self.axs):\n",
    "            ax.axhline(y=0.5, linewidth=4, color='gray', alpha=0.4)\n",
    "        \n",
    "            for j in range(1, 100, 2):\n",
    "                ax.axvline(x=j, ymin=0.40, ymax=0.60, linewidth=4, color='gray', alpha=0.4)\n",
    "\n",
    "            ax.set_xlim([0, 100])\n",
    "            \n",
    "            if i < num-1:\n",
    "                ax.axis('off')\n",
    "                \n",
    "            ax.set(yticklabels=[])\n",
    "            ax.tick_params(left=False)\n",
    "            sns.despine(left=True)\n",
    "            \n",
    "            ax.set_xticks(np.arange(0, 101, 2))\n",
    "            #ax.set_xticklabels(list(np.arange(0, len(score)+1, 1)))\n",
    "            \n",
    "    def config(self, ax, xmin, xmax):\n",
    "        ax.axvspan(xmin=xmin, xmax=xmax, ymin=0.40, ymax=0.60, facecolor='green', alpha=0.4)\n",
    "\n",
    "\n",
    "obj = Draw(2)\n",
    "obj.config(obj.axs[0],40, 56.5)\n",
    "obj.config(obj.axs[0],44, 46)\n",
    "obj.config(obj.axs[1],45, 53)\n",
    "\n",
    "plt.subplots_adjust(left=0.125, bottom=0.50, right=0.9, top=0.9, wspace=0.01, hspace=0)"
   ]
  },
  {
   "cell_type": "code",
   "execution_count": null,
   "id": "d1c07452",
   "metadata": {},
   "outputs": [],
   "source": []
  }
 ],
 "metadata": {
  "kernelspec": {
   "display_name": "Python [conda env:deepscale]",
   "language": "python",
   "name": "conda-env-deepscale-py"
  },
  "language_info": {
   "codemirror_mode": {
    "name": "ipython",
    "version": 3
   },
   "file_extension": ".py",
   "mimetype": "text/x-python",
   "name": "python",
   "nbconvert_exporter": "python",
   "pygments_lexer": "ipython3",
   "version": "3.7.11"
  }
 },
 "nbformat": 4,
 "nbformat_minor": 5
}
