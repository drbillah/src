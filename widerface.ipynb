{
 "cells": [
  {
   "cell_type": "code",
   "execution_count": null,
   "id": "04138e83",
   "metadata": {},
   "outputs": [],
   "source": [
    "filename = \"/home/mbillah/Downloads/all/old2/widerface/wider_face_split/wider_face_test_filelist.txt\"\n",
    "myDict = {}\n",
    "with open(filename) as lines:\n",
    "    for line in lines:\n",
    "        line = line.strip()\n",
    "        \n",
    "        if line.find(\".jpg\") != -1:\n",
    "            img_name = line\n",
    "            img_num = lines.readline()\n",
    "            \n",
    "        else:\n",
    "            if img_num == '0':\n",
    "                continue\n",
    "            line = line.split(' ')\n",
    "            bbox = list(map(int, line))\n",
    "            if img_name not in myDict:\n",
    "                myDict[img_name] = [bbox]\n",
    "            else:\n",
    "                myDict[img_name].append(bbox)"
   ]
  },
  {
   "cell_type": "code",
   "execution_count": null,
   "id": "3e3a5523",
   "metadata": {},
   "outputs": [],
   "source": [
    "import os\n",
    "import cv2\n",
    "root = \"/home/mbillah/Downloads/all/old2/widerface/WIDER_val/images\"\n",
    "bout = \"/home/mbillah/Downloads/all/old2/widerface/wVal/\" \n",
    "\n",
    "def relu(temp):\n",
    "    if temp <= 0.0:\n",
    "        return 0.001\n",
    "    else:\n",
    "        return temp\n",
    "    \n",
    "for key, bboxes in myDict.items():\n",
    "    img_path = os.path.join(root, key)\n",
    "\n",
    "    if os.path.exists(img_path):\n",
    "        img = cv2.imread(img_path)\n",
    "        orig_height, ori_width, _ = img.shape\n",
    "        \n",
    "        basename = os.path.basename(img_path)\n",
    "        \n",
    "        f = open(bout+basename[:-3]+\"txt\", \"w\")\n",
    "        \n",
    "        for bbox in bboxes:\n",
    "            x, y, w, h = bbox[:4]\n",
    "            x, y, w, h = relu(x), relu(y), relu(w), relu(h)\n",
    "            cx, cy = x+0.5*w, y+0.5*h\n",
    "            nX = round(cx/ori_width,6)\n",
    "            nY = round(cy/orig_height,6)\n",
    "            nW = round(w/ori_width,6)\n",
    "            nH = round(h/orig_height,6)\n",
    "            \n",
    "            nW = nW * 1.5\n",
    "            nH = nH * 1.5\n",
    "            \n",
    "            #vec = \",\".join([str(0), str(nX)])\n",
    "            f.write(\"{} {} {} {} {}\\n\".format(0, nX, nY, nW, nH))\n",
    "        f.close()"
   ]
  },
  {
   "cell_type": "code",
   "execution_count": null,
   "id": "59c9e005",
   "metadata": {},
   "outputs": [],
   "source": []
  },
  {
   "cell_type": "code",
   "execution_count": null,
   "id": "e2fbaf14",
   "metadata": {},
   "outputs": [],
   "source": []
  },
  {
   "cell_type": "code",
   "execution_count": null,
   "id": "9f3fd028",
   "metadata": {},
   "outputs": [],
   "source": [
    "import os\n",
    "import numpy as np\n",
    "from glob import glob\n",
    "img_dir = \"/home/mbillah/Downloads/all/old2/widerface/WIDER_val/images\"\n",
    "\n",
    "images = []\n",
    "folders = os.listdir(img_dir)\n",
    "for folder in folders:\n",
    "    path = os.path.join(img_dir, folder)\n",
    "    temp = glob(os.path.join(path, \"*.*\"))\n",
    "    images.append(temp)\n",
    "images = list(np.concatenate(images).flat)"
   ]
  },
  {
   "cell_type": "code",
   "execution_count": null,
   "id": "c0937eda",
   "metadata": {},
   "outputs": [],
   "source": [
    "labels = []\n",
    "files = os.listdir(\"/home/mbillah/Downloads/all/old2/widerface/wVal\")\n",
    "for file in files:\n",
    "    file = file[:-3] +\"jpg\"\n",
    "    labels.append(file)"
   ]
  },
  {
   "cell_type": "code",
   "execution_count": null,
   "id": "38f36dbf",
   "metadata": {},
   "outputs": [],
   "source": [
    "print(images[0])\n",
    "print(labels[0])"
   ]
  },
  {
   "cell_type": "code",
   "execution_count": null,
   "id": "a00a2ef9",
   "metadata": {},
   "outputs": [],
   "source": [
    "import shutil \n",
    "\n",
    "for image in images:\n",
    "    basename = os.path.basename(image)\n",
    "    if basename in labels:\n",
    "        shutil.copy(image, \"/home/mbillah/Downloads/all/old2/widerface/wVal/\"+basename)"
   ]
  },
  {
   "cell_type": "code",
   "execution_count": null,
   "id": "9de7416a",
   "metadata": {},
   "outputs": [],
   "source": []
  },
  {
   "cell_type": "code",
   "execution_count": null,
   "id": "361ad9e3",
   "metadata": {},
   "outputs": [],
   "source": []
  },
  {
   "cell_type": "code",
   "execution_count": null,
   "id": "cf92535a",
   "metadata": {},
   "outputs": [],
   "source": [
    "import cv2\n",
    "\n",
    "def conv(x, y, w, h):\n",
    "    l = int((x - w / 2) * dw)\n",
    "    r = int((x + w / 2) * dw)\n",
    "    t = int((y - h / 2) * dh)\n",
    "    b = int((y + h / 2) * dh)\n",
    "    return l, r, t, b\n",
    "\n",
    "img = cv2.imread(\"/home/mbillah/Downloads/all/old2/widerface/check/0_Parade_marchingband_1_5.jpg\")\n",
    "dh, dw, _ = img.shape\n",
    "\n",
    "\n",
    "x, y, w, h = 0.501465, 0.296486, 0.036133, 0.074671\n",
    "l, r, t, b = conv(x,y,w,h)\n",
    "sv = cv2.rectangle(img, (l, t), (r, b), (255,0,0), 1)\n",
    "\n",
    "x, y, w, h = 0.501465, 0.296486, 0.036133*1.5, 0.074671*1.5\n",
    "l, r, t, b = conv(x,y,w,h)\n",
    "sv = cv2.rectangle(img, (l, t), (r, b), (255,0,0), 1)\n",
    "\n",
    "x, y, w, h = 0.501465, 0.296486, 0.036133*2.0, 0.074671*2.0\n",
    "l, r, t, b = conv(x,y,w,h)\n",
    "sv = cv2.rectangle(img, (l, t), (r, b), (255,0,0), 1)\n",
    "\n",
    "\n",
    "cv2.imwrite(\"/home/mbillah/Downloads/all/old2/widerface/check/d.jpg\", sv)"
   ]
  },
  {
   "cell_type": "code",
   "execution_count": null,
   "id": "4c439540",
   "metadata": {},
   "outputs": [],
   "source": []
  }
 ],
 "metadata": {
  "kernelspec": {
   "display_name": "Python [conda env:deepscale]",
   "language": "python",
   "name": "conda-env-deepscale-py"
  },
  "language_info": {
   "codemirror_mode": {
    "name": "ipython",
    "version": 3
   },
   "file_extension": ".py",
   "mimetype": "text/x-python",
   "name": "python",
   "nbconvert_exporter": "python",
   "pygments_lexer": "ipython3",
   "version": "3.7.11"
  }
 },
 "nbformat": 4,
 "nbformat_minor": 5
}
